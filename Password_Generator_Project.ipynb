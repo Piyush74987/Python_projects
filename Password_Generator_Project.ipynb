{
 "cells": [
  {
   "cell_type": "code",
   "execution_count": 1,
   "id": "d91fda11-78fd-41dc-9681-4561f236444f",
   "metadata": {},
   "outputs": [
    {
     "name": "stdin",
     "output_type": "stream",
     "text": [
      "Enter password length\n",
      " 9\n"
     ]
    },
    {
     "name": "stdout",
     "output_type": "stream",
     "text": [
      "Your password is: \n",
      "$H4sND#b1\n"
     ]
    }
   ],
   "source": [
    "import string\n",
    "import random\n",
    "\n",
    "if __name__ == \"__main__\":\n",
    "    s1 = string.ascii_lowercase\n",
    "    s2 = string.ascii_uppercase\n",
    "    s3 = string.digits\n",
    "    s4 = string.punctuation\n",
    "    plen = int(input(\"Enter password length\\n\")) \n",
    "    s = []\n",
    "    s.extend(list(s1))\n",
    "    s.extend(list(s2))\n",
    "    s.extend(list(s3))\n",
    "    s.extend(list(s4))\n",
    "   \n",
    "    print(\"Your password is: \")\n",
    "    print(\"\".join(random.sample(s, plen)))\n"
   ]
  },
  {
   "cell_type": "code",
   "execution_count": null,
   "id": "f64bbd60-f9b0-47f0-b89b-5080d5276d0e",
   "metadata": {},
   "outputs": [],
   "source": []
  }
 ],
 "metadata": {
  "kernelspec": {
   "display_name": "Python 3 (ipykernel)",
   "language": "python",
   "name": "python3"
  },
  "language_info": {
   "codemirror_mode": {
    "name": "ipython",
    "version": 3
   },
   "file_extension": ".py",
   "mimetype": "text/x-python",
   "name": "python",
   "nbconvert_exporter": "python",
   "pygments_lexer": "ipython3",
   "version": "3.10.8"
  }
 },
 "nbformat": 4,
 "nbformat_minor": 5
}
