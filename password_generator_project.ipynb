{
 "cells": [
  {
   "cell_type": "code",
   "execution_count": 5,
   "id": "d91fda11-78fd-41dc-9681-4561f236444f",
   "metadata": {},
   "outputs": [
    {
     "name": "stdin",
     "output_type": "stream",
     "text": [
      "Enter password length\n",
      " 8\n"
     ]
    },
    {
     "name": "stdout",
     "output_type": "stream",
     "text": [
      "Your password is: \n",
      "]X518ol&\n"
     ]
    }
   ],
   "source": [
    "import string\n",
    "import random\n",
    "\n",
    "if __name__ == \"__main__\":\n",
    "    s1 = string.ascii_lowercase\n",
    "    # print(s1)\n",
    "    s2 = string.ascii_uppercase\n",
    "    # print(s2)\n",
    "    s3 = string.digits\n",
    "    # print(s3)\n",
    "    s4 = string.punctuation\n",
    "    # print(s4)\n",
    "    plen = int(input(\"Enter password length\\n\")) #Todo1: Handle Gibberish\n",
    "    s = []\n",
    "    s.extend(list(s1))\n",
    "    s.extend(list(s2))\n",
    "    s.extend(list(s3))\n",
    "    s.extend(list(s4))\n",
    "    # print(s)\n",
    "    # random.shuffle(s)\n",
    "    # print(s)\n",
    "    print(\"Your password is: \")\n",
    "    print(\"\".join(random.sample(s, plen)))\n",
    "    # print(\"\".join(s[0:plen]))\n"
   ]
  },
  {
   "cell_type": "code",
   "execution_count": 6,
   "id": "974fb99b-a2cb-4c32-8186-ac1726c0da8d",
   "metadata": {},
   "outputs": [
    {
     "name": "stdin",
     "output_type": "stream",
     "text": [
      "Enter your password\n",
      " ]X518ol&\n"
     ]
    },
    {
     "ename": "TypeError",
     "evalue": "replace() argument 1 must be str, not int",
     "output_type": "error",
     "traceback": [
      "\u001b[0;31m---------------------------------------------------------------------------\u001b[0m",
      "\u001b[0;31mTypeError\u001b[0m                                 Traceback (most recent call last)",
      "Cell \u001b[0;32mIn[6], line 12\u001b[0m\n\u001b[1;32m     10\u001b[0m \u001b[38;5;28;01mif\u001b[39;00m \u001b[38;5;18m__name__\u001b[39m \u001b[38;5;241m==\u001b[39m \u001b[38;5;124m\"\u001b[39m\u001b[38;5;124m__main__\u001b[39m\u001b[38;5;124m\"\u001b[39m:\n\u001b[1;32m     11\u001b[0m     password \u001b[38;5;241m=\u001b[39m  \u001b[38;5;28minput\u001b[39m(\u001b[38;5;124m\"\u001b[39m\u001b[38;5;124mEnter your password\u001b[39m\u001b[38;5;130;01m\\n\u001b[39;00m\u001b[38;5;124m\"\u001b[39m)\n\u001b[0;32m---> 12\u001b[0m     password \u001b[38;5;241m=\u001b[39m \u001b[43msecurePassword\u001b[49m\u001b[43m(\u001b[49m\u001b[43mpassword\u001b[49m\u001b[43m)\u001b[49m\n\u001b[1;32m     13\u001b[0m     \u001b[38;5;28mprint\u001b[39m(\u001b[38;5;124mf\u001b[39m\u001b[38;5;124m\"\u001b[39m\u001b[38;5;124mYour secure password is \u001b[39m\u001b[38;5;132;01m{\u001b[39;00mpassword\u001b[38;5;132;01m}\u001b[39;00m\u001b[38;5;124m\"\u001b[39m)\n",
      "Cell \u001b[0;32mIn[6], line 7\u001b[0m, in \u001b[0;36msecurePassword\u001b[0;34m(password)\u001b[0m\n\u001b[1;32m      5\u001b[0m \u001b[38;5;28;01mdef\u001b[39;00m \u001b[38;5;21msecurePassword\u001b[39m(password):\n\u001b[1;32m      6\u001b[0m     \u001b[38;5;28;01mfor\u001b[39;00m a,b \u001b[38;5;129;01min\u001b[39;00m SECURE:\n\u001b[0;32m----> 7\u001b[0m         password \u001b[38;5;241m=\u001b[39m \u001b[43mpassword\u001b[49m\u001b[38;5;241;43m.\u001b[39;49m\u001b[43mreplace\u001b[49m\u001b[43m(\u001b[49m\u001b[43ma\u001b[49m\u001b[43m,\u001b[49m\u001b[43m \u001b[49m\u001b[43mb\u001b[49m\u001b[43m)\u001b[49m\n\u001b[1;32m      8\u001b[0m     \u001b[38;5;28;01mreturn\u001b[39;00m password\n",
      "\u001b[0;31mTypeError\u001b[0m: replace() argument 1 must be str, not int"
     ]
    }
   ],
   "source": [
    "SECURE = (( '$',\"s\"), ( '&',\"and\"), \n",
    "            ( '@',\"a\"), ('o', '0'), ('i', '1'),\n",
    "            ('I', '|'),(1,\"!\"),(2,\"@\"),(3,\"#\"),(4,\"$\"),(5,\"%\"),(6,\"^\"),(7,\"&\"),(8,\"*\"),(9,\"(\"),(0,\")\"))\n",
    "\n",
    "def securePassword(password):\n",
    "    for a,b in SECURE:\n",
    "        password = password.replace(a, b)\n",
    "    return password\n",
    "\n",
    "if __name__ == \"__main__\":\n",
    "    password =  input(\"Enter your password\\n\")\n",
    "    password = securePassword(password)\n",
    "    print(f\"Your secure password is {password}\")"
   ]
  },
  {
   "cell_type": "code",
   "execution_count": null,
   "id": "044668ae-12d6-40c2-a743-f5115717eadd",
   "metadata": {},
   "outputs": [],
   "source": []
  }
 ],
 "metadata": {
  "kernelspec": {
   "display_name": "Python 3 (ipykernel)",
   "language": "python",
   "name": "python3"
  },
  "language_info": {
   "codemirror_mode": {
    "name": "ipython",
    "version": 3
   },
   "file_extension": ".py",
   "mimetype": "text/x-python",
   "name": "python",
   "nbconvert_exporter": "python",
   "pygments_lexer": "ipython3",
   "version": "3.10.8"
  }
 },
 "nbformat": 4,
 "nbformat_minor": 5
}
