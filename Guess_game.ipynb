{
 "cells": [
  {
   "cell_type": "code",
   "execution_count": 71,
   "id": "79a7af45-0b33-4bd1-9f95-e34507c50390",
   "metadata": {},
   "outputs": [],
   "source": [
    "from random import shuffle"
   ]
  },
  {
   "cell_type": "code",
   "execution_count": 72,
   "id": "231c4677-cbb2-4243-817b-b2e41ad3946a",
   "metadata": {},
   "outputs": [],
   "source": [
    "def shuf_list(lst):\n",
    "    shuffle(lst)\n",
    "    return lst\n"
   ]
  },
  {
   "cell_type": "code",
   "execution_count": 73,
   "id": "ffa01486-2504-4b2c-b97a-be6fd26b80a9",
   "metadata": {},
   "outputs": [],
   "source": [
    "def guess():\n",
    "    \n",
    "    guess=' '\n",
    "    \n",
    "    while guess not in ['0','1','2']:\n",
    "        guess=input(\"Please Enter Your Guess\")\n",
    "    return int(guess)\n",
    "\n"
   ]
  },
  {
   "cell_type": "code",
   "execution_count": 74,
   "id": "8cd8558c-d511-46c9-89c2-cc6df273232e",
   "metadata": {},
   "outputs": [],
   "source": [
    "def guess_result(lst,guess_ans):\n",
    "    if guess=='o':\n",
    "        print(\"Your guess is correct\")\n",
    "    else :\n",
    "        print (\"Your guess is wrong \")\n",
    "        \n",
    "    print(lst)"
   ]
  },
  {
   "cell_type": "code",
   "execution_count": 75,
   "id": "863234bd-1577-4dc3-9757-d89ffc27c747",
   "metadata": {},
   "outputs": [
    {
     "name": "stdin",
     "output_type": "stream",
     "text": [
      "Please Enter Your Guess 1\n"
     ]
    },
    {
     "name": "stdout",
     "output_type": "stream",
     "text": [
      "Your guess is wrong \n",
      "['', '', 'o']\n"
     ]
    }
   ],
   "source": [
    "lst=['','o','']\n",
    "\n",
    "mixed_lst=shuf_list(lst)\n",
    "\n",
    "gue=guess_ans()\n",
    "\n",
    "guess_result(mixed_lst,gue)"
   ]
  }
 ],
 "metadata": {
  "kernelspec": {
   "display_name": "Python 3 (ipykernel)",
   "language": "python",
   "name": "python3"
  },
  "language_info": {
   "codemirror_mode": {
    "name": "ipython",
    "version": 3
   },
   "file_extension": ".py",
   "mimetype": "text/x-python",
   "name": "python",
   "nbconvert_exporter": "python",
   "pygments_lexer": "ipython3",
   "version": "3.10.8"
  }
 },
 "nbformat": 4,
 "nbformat_minor": 5
}
